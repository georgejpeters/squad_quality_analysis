{
 "cells": [
  {
   "cell_type": "code",
   "execution_count": 199,
   "metadata": {
    "collapsed": true
   },
   "outputs": [],
   "source": [
    "import requests\n",
    "import numpy as np\n",
    "import pandas as pd\n",
    "from bs4 import BeautifulSoup\n",
    "from selenium import webdriver\n",
    "from selenium_stealth import stealth\n",
    "from fuzzywuzzy import process\n",
    "import re"
   ]
  },
  {
   "cell_type": "code",
   "execution_count": 200,
   "outputs": [],
   "source": [
    "def stealth_scraper(link):\n",
    "    options = webdriver.ChromeOptions()\n",
    "    options.add_argument(\"user-agent=Mozilla/5.0 (Windows NT 10.0; Win64; x64) AppleWebKit/537.36 (KHTML, like Gecko) HeadlessChrome/96.0.4664.110 Safari/537.36\")\n",
    "    options.add_argument(\"start-maximized\")\n",
    "    options.add_argument(\"--headless\")\n",
    "    options.add_experimental_option(\"excludeSwitches\", [\"enable-automation\"])\n",
    "    options.add_experimental_option('useAutomationExtension', False)\n",
    "    driver = webdriver.Chrome(options=options)\n",
    "    # WhoScored and TransferMarkt use cloudlfare so have to work around, not the most efficient solution but as this is a small scale scrape its acceptable\n",
    "    stealth(driver,\n",
    "            languages=[\"en-US\", \"en\"],\n",
    "            vendor=\"Google Inc.\",\n",
    "            platform=\"Win32\",\n",
    "            webgl_vendor=\"Intel Inc.\",\n",
    "            renderer=\"Intel Iris OpenGL Engine\",\n",
    "            fix_hairline=True,\n",
    "            )\n",
    "\n",
    "    driver.get(link)\n",
    "    html = driver.page_source\n",
    "    soup = BeautifulSoup(html, \"html.parser\")\n",
    "    return soup"
   ],
   "metadata": {
    "collapsed": false
   }
  },
  {
   "cell_type": "code",
   "execution_count": 201,
   "outputs": [],
   "source": [
    "def scrape_WhoScored(link):\n",
    "    soup = stealth_scraper(link)\n",
    "    stats_table = soup.find(\"div\", {\"id\": \"team-squad-stats-summary\"})\n",
    "\n",
    "    name = stats_table.find_all(\"span\" , {\"class\": \"iconize iconize-icon-left\"})\n",
    "    name_text = [n.text for n in name]\n",
    "    rating = stats_table.find_all(\"td\" , {\"class\": \"rating\"})\n",
    "    mins = stats_table.find_all(\"td\", {\"class\": \"minsPlayed\"})\n",
    "    mins_and_rating = [[int(mins[idx].text.strip()), float(r.text)] for idx, r in enumerate(rating)]\n",
    "    whoscored_ratings_dict = dict(zip(name_text,mins_and_rating))\n",
    "    whoscored_ratings = pd.DataFrame.from_dict(whoscored_ratings_dict, orient=\"index\", columns=[\"Mins\", \"Rating\"])\n",
    "    return whoscored_ratings"
   ],
   "metadata": {
    "collapsed": false
   }
  },
  {
   "cell_type": "code",
   "execution_count": 202,
   "outputs": [
    {
     "name": "stdout",
     "output_type": "stream",
     "text": [
      "                        Mins  Rating\n",
      "Sebastián Driussi       2311    7.21\n",
      "Zan Kolmanic             432    6.89\n",
      "Julio Cascante          2065    6.77\n",
      "Brad Stuver             3060    6.75\n",
      "Daniel Pereira          2530    6.73\n",
      "Emiliano Rigoni         2200    6.67\n",
      "Jon Gallagher           2793    6.64\n",
      "Leo Väisänen            1763    6.64\n",
      "Alexander Ring          2157    6.62\n",
      "Nick Lima               2419    6.60\n",
      "Gyasi Zardes            1474    6.58\n",
      "Owen Wolff              1885    6.55\n",
      "Diego Fagundez          1031    6.54\n",
      "Matt Hedges              306    6.48\n",
      "Jhojan Valencia         1435    6.48\n",
      "Sofiane Djeffal          312    6.45\n",
      "Aleksandar Radovanovic   353    6.44\n",
      "Ethan Finlay            1700    6.43\n",
      "Adam Lundkvist           854    6.37\n",
      "Memo Rodríguez           236    6.26\n",
      "Rodney Redes             484    6.24\n",
      "CJ Fodrey                 29    6.24\n",
      "Maximiliano Urruti       970    6.20\n",
      "Will Bruin               335    6.18\n",
      "Kipp Keller              436    6.16\n",
      "Hector Jimenez            51    6.13\n"
     ]
    }
   ],
   "source": [
    "ratings = scrape_WhoScored(\"https://www.whoscored.com/Teams/29664/Show/USA-Austin-FC\")\n",
    "print(ratings)"
   ],
   "metadata": {
    "collapsed": false
   }
  },
  {
   "cell_type": "code",
   "execution_count": 203,
   "outputs": [],
   "source": [
    "def scrape_transfermarkt(link):\n",
    "    soup = stealth_scraper(link)\n",
    "    table = soup.find(\"table\", {\"class\": \"items\"})\n",
    "    names_and_values = table.find_all(\"td\", {\"class\": \"hauptlink\"})\n",
    "    names_and_values_text = [n.text.strip() for n in names_and_values]\n",
    "    names_and_values = dict(zip(names_and_values_text[::2], names_and_values_text[1::2]))\n",
    "    names_and_values = pd.DataFrame.from_dict(names_and_values, orient=\"index\", columns=[\"Value\"])\n",
    "    return names_and_values"
   ],
   "metadata": {
    "collapsed": false
   }
  },
  {
   "cell_type": "code",
   "execution_count": 204,
   "outputs": [],
   "source": [
    "def format_data(valid_names):\n",
    "    values = scrape_transfermarkt(\"https://www.transfermarkt.co.uk/austin-fc/kader/verein/72309/saison_id/2022\")\n",
    "    ratings = scrape_WhoScored(\"https://www.whoscored.com/Teams/29664/Show/USA-Austin-FC\")\n",
    "    for name in valid_names:\n",
    "        # fuzzy name matching to match with valid_names list\n",
    "        ratings_option = process.extractOne(name, ratings.index)\n",
    "        values_option = process.extractOne(name, values.index)\n",
    "        if ratings_option[1]>=85:\n",
    "            ratings.rename(index={ratings_option[0]:name}, inplace=True)\n",
    "        if values_option[1]>=85:\n",
    "            values.rename(index={values_option[0]:name}, inplace=True)\n",
    "    #ratings.sort_values(\"Rating\", ascending=False, inplace=True)\n",
    "    #values.sort_values(\"Value\", ascending=False, inplace=True)\n",
    "    for idx, row in values.iterrows():\n",
    "        # extract number from string\n",
    "        if \"k\" in row[0]:\n",
    "            val = float(re.findall(r'\\d+', row[0])[0])\n",
    "            # convert to millions\n",
    "            val = val/1000\n",
    "            values.loc[idx, \"Value\"] = val\n",
    "        else:\n",
    "            val = float(re.sub(\"[^0-9 \\.]\", \"\", row[0]))\n",
    "            values.loc[idx, \"Value\"] = val\n",
    "\n",
    "    player_info = values.join(ratings)\n",
    "    player_info.rename({\"Value\": \"Value €M\"}, axis=1, inplace=True)\n",
    "    # WhoScored has some missing data for players that haven't played yet this season, in this case give them a rating of 0\n",
    "    player_info.fillna(0, inplace=True)\n",
    "    player_info.to_csv(\"player_info.csv\")"
   ],
   "metadata": {
    "collapsed": false
   }
  },
  {
   "cell_type": "code",
   "execution_count": 205,
   "outputs": [],
   "source": [
    "player_names = [\"Adam Lundqvist\",\"Alexander Ring\",\"Brad Stuver\",\"Brandon Craig\",\"Damian Las\",\"Daniel Pereira\",\"Emiliano Rigoni\",\"Ethan Finlay\",\"Gyasi Zardes\",\"Hector Jimenez\",\"Jhojan Valencia\",\"Jon Gallagher\",\"Julio Cesar Cascante\",\"Kipp Keller\",\"Leo Väisänen\",\"Matt Bersano\",\"Matt Hedges\",\"Maxi Urruti\",\"Memo Rodriguez\",\"Nick Lima\",\"Owen Wolff\",\"Rodney Redes\",\"Sebastian Driussi\",\"Sofiane Djeffal\",\"Will Bruin\",\"Zan Kolmanic\"]\n",
    "format_data(player_names)"
   ],
   "metadata": {
    "collapsed": false
   }
  },
  {
   "cell_type": "code",
   "execution_count": 216,
   "outputs": [
    {
     "name": "stdout",
     "output_type": "stream",
     "text": [
      "Sebastian Driussi       10.0\n",
      "Daniel Pereira           9.6\n",
      "Julio Cesar Cascante     9.3\n",
      "Brad Stuver              8.9\n",
      "Emiliano Rigoni          8.5\n",
      "Jon Gallagher            8.1\n",
      "Leo Väisänen             7.8\n",
      "Zan Kolmanic             7.4\n",
      "Nick Lima                7.0\n",
      "Alexander Ring           6.7\n",
      "Owen Wolff               6.3\n",
      "Gyasi Zardes             5.9\n",
      "Jhojan Valencia          5.6\n",
      "Ethan Finlay             5.2\n",
      "Adam Lundqvist           4.8\n",
      "Matt Hedges              4.4\n",
      "Sofiane Djeffal          4.1\n",
      "Maxi Urruti              3.7\n",
      "Memo Rodriguez           3.3\n",
      "Rodney Redes             3.0\n",
      "Will Bruin               2.6\n",
      "Kipp Keller              2.2\n",
      "Hector Jimenez           1.5\n",
      "Brandon Craig            0.9\n",
      "Matt Bersano             0.4\n",
      "Damian Las               0.0\n",
      "Name: Score, dtype: float64\n"
     ]
    }
   ],
   "source": [
    "def player_analysis(df_path, valid_names, write_out=False):\n",
    "    player_data = pd.read_csv(df_path, index_col=0)\n",
    "    player_data[\"Rating Rank\"] = player_data[\"Rating\"].rank(ascending=0)\n",
    "    player_data[\"Values Rank\"] = player_data[\"Value €M\"].rank(ascending=0)\n",
    "    player_data[\"Mins Rank\"] = player_data[\"Mins\"].rank(ascending=0)\n",
    "    # calculate weighted average\n",
    "    player_data[\"Average Rank\"] = player_data[\"Rating Rank\"]*0.6+player_data[\"Mins Rank\"]*0.25+player_data[\"Values Rank\"]*0.15\n",
    "    player_data.sort_values(\"Average Rank\", inplace=True)\n",
    "    player_data[\"Overall Rank\"] = player_data[\"Average Rank\"].rank(ascending=1)\n",
    "    # Score players based on their ranks between 0-10 with 10 being the top ranked player and 0 being the bottom\n",
    "    player_data[\"Score\"] = 10-((player_data[\"Overall Rank\"]-1)*(10/(len(player_data)-2)))\n",
    "    player_data[\"Score\"] = player_data[\"Score\"].round(1)\n",
    "    player_data = player_data[player_data.index.isin(valid_names)]\n",
    "    # checking no names are missing from list of provided players to rank\n",
    "    if len(player_data)!=len(valid_names):\n",
    "        print(set(valid_names)-set(player_data.index))\n",
    "        raise ValueError(\"Different number of players in DF and analysis task\")\n",
    "    print(player_data[\"Score\"])\n",
    "    if write_out:\n",
    "        player_data[\"Score\"].to_csv(\"player_scores.csv\", index_label=\"Name\")\n",
    "player_analysis(\"player_info.csv\", player_names, write_out=True)"
   ],
   "metadata": {
    "collapsed": false
   }
  }
 ],
 "metadata": {
  "kernelspec": {
   "display_name": "Python 3",
   "language": "python",
   "name": "python3"
  },
  "language_info": {
   "codemirror_mode": {
    "name": "ipython",
    "version": 2
   },
   "file_extension": ".py",
   "mimetype": "text/x-python",
   "name": "python",
   "nbconvert_exporter": "python",
   "pygments_lexer": "ipython2",
   "version": "2.7.6"
  }
 },
 "nbformat": 4,
 "nbformat_minor": 0
}
